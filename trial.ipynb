{
 "cells": [
  {
   "cell_type": "code",
   "execution_count": 1,
   "metadata": {},
   "outputs": [],
   "source": [
    "import pandas as pd\n",
    "from sklearn.model_selection import train_test_split\n",
    "from sklearn.tree import DecisionTreeClassifier, plot_tree\n",
    "from sklearn.metrics import accuracy_score, classification_report, confusion_matrix\n",
    "from sklearn.preprocessing import LabelEncoder\n",
    "import matplotlib.pyplot as plt\n"
   ]
  },
  {
   "cell_type": "code",
   "execution_count": 7,
   "metadata": {},
   "outputs": [
    {
     "name": "stdout",
     "output_type": "stream",
     "text": [
      "Accuracy1: 0.8769230769230769\n",
      "Accuracy2: 0.8769230769230769\n"
     ]
    },
    {
     "name": "stderr",
     "output_type": "stream",
     "text": [
      "/var/folders/l4/hlg0lrhx2_79czgk4q732ylw0000gq/T/ipykernel_99943/56073573.py:35: SettingWithCopyWarning: \n",
      "A value is trying to be set on a copy of a slice from a DataFrame.\n",
      "Try using .loc[row_indexer,col_indexer] = value instead\n",
      "\n",
      "See the caveats in the documentation: https://pandas.pydata.org/pandas-docs/stable/user_guide/indexing.html#returning-a-view-versus-a-copy\n",
      "  X[\"Number_of_Failures\"] = df[\"Number_of_Failures\"]\n"
     ]
    }
   ],
   "source": [
    "\n",
    "df = pd.read_csv(\"student_dropout.csv\")\n",
    "\n",
    "# Creating new data frames, this is the top 4 that we thought was the most influential factors\n",
    "X = df.iloc[:,[10, 16, 27, 28]]\n",
    "Y = df.iloc[:,[-1]]\n",
    "\n",
    "#Taking data and changing it into numeric values\n",
    "label_encoder = LabelEncoder()\n",
    "# 0 = No, 1 = yes\n",
    "X.loc[:, 'Family_Support'] = label_encoder.fit_transform(X['Family_Support'])\n",
    "#Course = 0, Home = 1, Other = 2, Reputation = 3\n",
    "X.loc[:, 'Reason_for_Choosing_School'] = label_encoder.fit_transform(X['Reason_for_Choosing_School'])\n",
    "# 0 = False, 1 = True\n",
    "Y.loc[:, 'Dropped_Out'] = label_encoder.fit_transform(Y['Dropped_Out'])\n",
    "# Part of dataset used for training\n",
    "\n",
    "X_train, X_test, y_train, y_test = train_test_split(X, Y, test_size=0.2, random_state= 42)\n",
    "\n",
    "clf = DecisionTreeClassifier(random_state = 42)\n",
    "\n",
    "clf.fit(X_train, y_train)\n",
    "\n",
    "pred = clf.predict(X_test)\n",
    "\n",
    "pred\n",
    "\n",
    "accuracy1 = accuracy_score(y_test, pred)\n",
    "print(f\"Accuracy1: {accuracy1}\")\n",
    "\n",
    "\n",
    "\n",
    "\n",
    "#second round\n",
    "#X.loc[:, \"Number_of_Failures\"] = df[\"Number_of_Failures\"]\n",
    "X[\"Number_of_Failures\"] = df[\"Number_of_Failures\"]\n",
    "\n",
    "X_train, X_test, y_train, y_test = train_test_split(X, Y, test_size=0.2, random_state= 42)\n",
    "\n",
    "clf2 = DecisionTreeClassifier(random_state = 42)\n",
    "\n",
    "clf2.fit(X_train, y_train)\n",
    "\n",
    "pred2 = clf2.predict(X_test)\n",
    "\n",
    "pred2\n",
    "\n",
    "accuracy2 = accuracy_score(y_test, pred2)\n",
    "print(f\"Accuracy2: {accuracy2}\")\n"
   ]
  }
 ],
 "metadata": {
  "kernelspec": {
   "display_name": "Python 3",
   "language": "python",
   "name": "python3"
  },
  "language_info": {
   "codemirror_mode": {
    "name": "ipython",
    "version": 3
   },
   "file_extension": ".py",
   "mimetype": "text/x-python",
   "name": "python",
   "nbconvert_exporter": "python",
   "pygments_lexer": "ipython3",
   "version": "3.8.2"
  }
 },
 "nbformat": 4,
 "nbformat_minor": 2
}
